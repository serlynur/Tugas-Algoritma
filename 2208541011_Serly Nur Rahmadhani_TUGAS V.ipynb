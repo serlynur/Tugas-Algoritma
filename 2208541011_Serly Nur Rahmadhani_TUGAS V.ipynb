{
  "nbformat": 4,
  "nbformat_minor": 0,
  "metadata": {
    "colab": {
      "provenance": []
    },
    "kernelspec": {
      "name": "python3",
      "display_name": "Python 3"
    },
    "language_info": {
      "name": "python"
    }
  },
  "cells": [
    {
      "cell_type": "markdown",
      "source": [
        "**6.16** **LIST** **2** **DIMENSI**\n",
        "\n",
        "List 2 dimensi pada umumnya adalah menempatkan sebuah list di dalam list.\n",
        "Penggambarannya seperti sebuah matrik."
      ],
      "metadata": {
        "id": "SWxuyLvSs49H"
      }
    },
    {
      "cell_type": "code",
      "execution_count": null,
      "metadata": {
        "colab": {
          "base_uri": "https://localhost:8080/"
        },
        "id": "BI46CgvRspIp",
        "outputId": "74a078c5-58cd-47c7-d730-8f2886f3d30c"
      },
      "outputs": [
        {
          "output_type": "stream",
          "name": "stdout",
          "text": [
            "[[1, 2, 3, 4], [5, 6, 7, 8], [9, 10, 11, 12], [13, 14, 15, 16]]\n"
          ]
        }
      ],
      "source": [
        "#contoh list dua dimensi pada matrix\n",
        "\n",
        "matrik = [ \n",
        "    [1, 2, 3, 4],\n",
        "    [5, 6, 7, 8],\n",
        "    [9, 10, 11, 12],\n",
        "    [13, 14, 15, 16]\n",
        "]\n",
        "#mendeklarasikan matrik\n",
        "\n",
        "print (matrik)\n",
        "\n"
      ]
    },
    {
      "cell_type": "code",
      "source": [
        "matrik [1][2]\n",
        "#memanggil elemen matrix ke 2 pada matrix 1"
      ],
      "metadata": {
        "colab": {
          "base_uri": "https://localhost:8080/"
        },
        "id": "sp4b3DGN8pJO",
        "outputId": "ce0d5b59-3e87-47f1-8a6b-6725b19d8ea9"
      },
      "execution_count": null,
      "outputs": [
        {
          "output_type": "execute_result",
          "data": {
            "text/plain": [
              "7"
            ]
          },
          "metadata": {},
          "execution_count": 5
        }
      ]
    },
    {
      "cell_type": "code",
      "source": [
        "matrik [1][2]=100\n",
        "#mengganti elemen matrik ke 2 pada matrik 1\n",
        "#matrik 1 terdiri dari [5,6,7,8] dan elemen ke 2 dari matrik 2 yaitu 7\n",
        "#jadi 7 diganti dengan 100, sehingga 7 telah terganti dengan 100\n",
        "\n",
        "print (matrik[1][2])\n",
        "#karena tadi diatas elemen ke 2 tlah diganti dengan 100 maka elemen sebelumnya akan tenggelam dan terganti dengan 100"
      ],
      "metadata": {
        "colab": {
          "base_uri": "https://localhost:8080/"
        },
        "id": "EquRxx_T-poK",
        "outputId": "1b8d53c6-d830-4f13-d031-e66e2b606e8f"
      },
      "execution_count": null,
      "outputs": [
        {
          "output_type": "stream",
          "name": "stdout",
          "text": [
            "100\n"
          ]
        }
      ]
    },
    {
      "cell_type": "code",
      "source": [
        "#Latihan ke 1\n",
        "#membuat list 2 dimensi dengan menginput sendiri elemen elemennya\n",
        "\n",
        "list_dua_dimensi = []\n",
        "\n",
        "jumlah_baris = int(input(\"Masukkan jumlah baris: \"))\n",
        "jumlah_kolom = int(input(\"Masukkan jumlah kolom: \"))\n",
        "#Input jumlah baris dan kolom yg diinginkan\n",
        "\n",
        "print (\"\\n\")\n",
        "for i in range(jumlah_baris):\n",
        "#Mengisi list dua dimensi\n",
        "    \n",
        "    baris = []\n",
        "    #Membuat list sementara untuk setiap baris\n",
        "    for j in range(jumlah_kolom):\n",
        "        nilai = int(input(f\"Masukkan nilai untuk baris {i+1}, kolom {j+1}: \"))\n",
        "        #Input nilai untuk setiap elemen pada baris ke pertama smpai terakhir\n",
        "        #dan meng input nilai untuk setiap elemen pada kolom pertama sampai terakhir\n",
        "        #jika kolom dan barisnya lebih dari 1 maka elemen tiap baris dan kolom harus di input hingga mencapai baris dan kolom terakhir\n",
        "        #jika tidak memasukkan elemen pada baris dan kolom maka akan eror\n",
        "        baris.append(nilai)\n",
        "        #Menambahkan nilai ke dalam baris\n",
        "    list_dua_dimensi.append(baris)\n",
        "    #Menambahkan baris ke dalam list dua dimensi\n",
        "\n",
        "\n",
        "print(\"\\nList dua dimensi:\")\n",
        "#Menampilkan list dua dimensi\n",
        "for baris in list_dua_dimensi:\n",
        "    print(baris)\n"
      ],
      "metadata": {
        "colab": {
          "base_uri": "https://localhost:8080/"
        },
        "id": "M7h9IXmV_iQT",
        "outputId": "1b7f4a48-d291-445b-bd6f-2fd84d9b4764"
      },
      "execution_count": null,
      "outputs": [
        {
          "output_type": "stream",
          "name": "stdout",
          "text": [
            "Masukkan jumlah baris: 3\n",
            "Masukkan jumlah kolom: 3\n",
            "\n",
            "\n",
            "Masukkan nilai untuk baris 1, kolom 1: 2\n",
            "Masukkan nilai untuk baris 1, kolom 2: 1\n",
            "Masukkan nilai untuk baris 1, kolom 3: 0\n",
            "Masukkan nilai untuk baris 2, kolom 1: 0\n",
            "Masukkan nilai untuk baris 2, kolom 2: 0\n",
            "Masukkan nilai untuk baris 2, kolom 3: 0\n",
            "Masukkan nilai untuk baris 3, kolom 1: 8\n",
            "Masukkan nilai untuk baris 3, kolom 2: 0\n",
            "Masukkan nilai untuk baris 3, kolom 3: 89\n",
            "\n",
            "List dua dimensi:\n",
            "[2, 1, 0]\n",
            "[0, 0, 0]\n",
            "[8, 0, 89]\n"
          ]
        }
      ]
    },
    {
      "cell_type": "markdown",
      "source": [
        "**5.17** **TUPLES**\n",
        "\n",
        "Tuples mirip dengan list, akan tetapi tuples tidak dapat dirubah isinya. Jika kita\n",
        "memiliki data yang tidak ingin dirubah isinya, kita gunakan tuples, sedangkan\n",
        "jika datanya masih ingin dimanipulasi kedepannya, gunakan list"
      ],
      "metadata": {
        "id": "OnNFMiVywRwz"
      }
    },
    {
      "cell_type": "code",
      "source": [
        "#CONTOH TUPLES\n",
        "\n",
        "angka = (0, 4, 1, 2, 3, 4, 5)\n",
        "print (angka[0])\n",
        "print (angka[0:3])\n",
        "for isi in angka [0:3]:\n",
        "    print (isi)\n",
        "\n",
        "#angka [0] = 10\n",
        "#angka.append(10)\n",
        "#angka.remove(5)\n",
        "#pada tuples data yg sudah dimasukkan tidak bisa diganti ataupun diubah ataupun ditambahkan\n",
        "#contohnya pada diatas jika kita ingin mengubah data maka akan eror\n",
        "\n",
        "angka.count(4)\n",
        "#menghitung jumlah munculnya angka yg dimasukkan\n",
        "\n",
        "angka.index(4)\n",
        "#menampilkan index ke-n"
      ],
      "metadata": {
        "colab": {
          "base_uri": "https://localhost:8080/"
        },
        "id": "ik6PN2EauN3e",
        "outputId": "b982a9d0-1239-4f84-c072-65feaeb2287f"
      },
      "execution_count": null,
      "outputs": [
        {
          "output_type": "stream",
          "name": "stdout",
          "text": [
            "0\n",
            "(0, 4, 1)\n",
            "0\n",
            "4\n",
            "1\n"
          ]
        },
        {
          "output_type": "execute_result",
          "data": {
            "text/plain": [
              "1"
            ]
          },
          "metadata": {},
          "execution_count": 11
        }
      ]
    },
    {
      "cell_type": "code",
      "source": [
        "#LATIHAN KE 1 MEMBUAT TUPLES\n",
        "#Tuples dapat digunakan untuk menyimpan sekumpulan data yang tetap atau konstan, \n",
        "#dan digunakan dalam berbagai operasi seperti pengulangan, pengkondisian, serta pencarian dengan menggunakan metode seperti count() dan index().\n",
        "\n",
        "#mendeskripsikan tuples terlebih dahulu\n",
        "tuples_1 = (1, 2, 3, 4, 5) \n",
        "#Tuples tipe angka\n",
        "tuples_2 = ('apel', 'jeruk', 'mangga') \n",
        "#Tuples tipe string\n",
        "tuples_3 = (1.1, 'hello', True) \n",
        "#Tuples dengan tipe data yang berbeda\n",
        "\n",
        "#menampilkan isi tuples\n",
        "print (\"\\n\")\n",
        "print(\"Isi tuples_1:\", tuples_1)\n",
        "print(\"Isi tuples_2:\", tuples_2)\n",
        "print(\"Isi tuples_3:\", tuples_3)\n",
        "\n",
        "#mengakses elemen dalam tuple\n",
        "print (\"\\n\")\n",
        "print(\"Elemen pertama dalam tuples_1:\", tuples_1[0])\n",
        "#menampilkan elemen urutan ke 0 pada tuples_1 yaitu 1\n",
        "print(\"Elemen kedua dalam tuples_2:\", tuples_2[1])\n",
        "#menampilkan elemen urutan ke 1 pada tuples_2 yaitu jeruk\n",
        "print(\"Elemen ketiga dalam tuples_3:\", tuples_3[2])\n",
        "#menampilkan elemen dengan urutan ke 2 pada tuples_3 yaitu True\n",
        "#karena perhitungan program di python itu dimulai dari 0 maka yg elemen yg ingin ditampilkan +1\n",
        "\n",
        "#Tuples bersarang (nested tuples)\n",
        "print (\"\\n\")\n",
        "tuples_4 = ((1, 2, 3), ('a', 'b', 'c'), (True, False, True))\n",
        "print(\"Tuples bersarang:\", tuples_4)\n",
        "#karena data dari tuples tidak bisa dirubah\n",
        "#maka disini saya menambahkan variabel baru pada tuples yg tida merubah data sebelumnya di tuples\n",
        "\n",
        "#Menggunakan fungsi len() untuk menghitung panjang tuples\n",
        "print (\"\\n\")\n",
        "print(\"Panjang tuples_1:\", len(tuples_1))\n",
        "#menghitung ada berapa banyak elemen pada tuples_1\n",
        "print(\"Panjang tuples_2:\", len(tuples_2))\n",
        "#menghitung ada berapa banyak elemen pada tuples_2\n",
        "\n",
        "#Tuples bersifat immutable (tidak dapat diubah)\n",
        "#misalnya, tuple_1[0] = 10 akan menghasilkan error\n",
        "\n",
        "#menggunakan tuples dalam pengulangan (loop)\n",
        "for elemen in tuples_2:\n",
        "    print(elemen)\n",
        "\n",
        "#menggunakan tuples dalam pengkondisian (conditional)\n",
        "print (\"\\n\")\n",
        "if 'apel' in tuples_2:\n",
        "    print(\"Apel ada dalam tuples_2.\")\n",
        "#menampilkan suatu elemen yg terdapat di tuples\n",
        "#contohnya disini saya ingin memunculkan kata 'apel' pada tuples_2\n",
        "#karena benar adanya kata 'apel' pada tuples_2 maka hasilnya akan sesuai yg di print\n",
        "#tetapi jika kata yg dicari tdk ada pad tuples tsb maka hasilnya tidak ada\n",
        "\n",
        "#menggunakan metode count() dan index() untuk melakukan pencarian dalam tuples\n",
        "print (\"\\n\")\n",
        "print(\"Jumlah jeruk dalam tuples_2:\", tuples_2.count('jeruk'))\n",
        "#fungsi count yaitu untuk menghitung berapa kali elemen itu muncul padda data tuples\n",
        "#disini contohnya saya ingin mencari berapa kali kata jeruk muncul pada tuples_2\n",
        "\n",
        "print(\"Indeks mangga dalam tuples_2:\", tuples_2.index('mangga'))\n",
        "#fungsi index yaitu untuk memunculkan elemen itu terdapat pada index atau urutan keberapa dalam program\n",
        "\n"
      ],
      "metadata": {
        "id": "HPmYwPLCwb5v",
        "colab": {
          "base_uri": "https://localhost:8080/"
        },
        "outputId": "ac42caa6-a200-4684-f22a-7543830d4f85"
      },
      "execution_count": null,
      "outputs": [
        {
          "output_type": "stream",
          "name": "stdout",
          "text": [
            "\n",
            "\n",
            "Isi tuple_1: (1, 2, 3, 4, 5)\n",
            "Isi tuple_2: ('apel', 'jeruk', 'mangga')\n",
            "Isi tuple_3: (1.1, 'hello', True)\n",
            "\n",
            "\n",
            "Elemen pertama dalam tuple_1: 1\n",
            "Elemen kedua dalam tuple_2: jeruk\n",
            "Elemen ketiga dalam tuple_3: True\n",
            "\n",
            "\n",
            "Tuple bersarang: ((1, 2, 3), ('a', 'b', 'c'), (True, False, True))\n",
            "\n",
            "\n",
            "Panjang tuple_1: 5\n",
            "Panjang tuple_2: 3\n",
            "apel\n",
            "jeruk\n",
            "mangga\n",
            "\n",
            "\n",
            "Apel ada dalam tuple_2.\n",
            "\n",
            "\n",
            "Jumlah jeruk dalam tuple_2: 1\n",
            "Indeks mangga dalam tuple_2: 2\n"
          ]
        }
      ]
    },
    {
      "cell_type": "code",
      "source": [
        "#LATIHAN KE 2 TUPLES\n",
        "\n",
        "#mendeskripsikan tuple berisi nama dan nilai mahasiswa\n",
        "nilai_mahasiswa1 = ('John', [85, 90, 78, 92])\n",
        "nilai_mahasiswa2 = ('Jane', [78, 88, 92, 76])\n",
        "nilai_mahasiswa3 = ('Tom', [92, 95, 89, 88])\n",
        "\n",
        "#menampilkan nilai mahasiswa\n",
        "print(\"\\nNilai Mahasiswa 1:\")\n",
        "print(\"Nama: \", nilai_mahasiswa1[0])\n",
        "#menampilkan nama mahasiswa_1, \n",
        "#karena elemen nama terletak pada index ke 0 makanya yg dipanggil itu index ke 0\n",
        "print(\"Nilai: \", nilai_mahasiswa1[1])\n",
        "#menampilkan nilai mahasiswa_1\n",
        "#karena nilai  itu elemen ke 1 makanya yg dipanggil yaitu index ke 1\n",
        "\n",
        "print(\"\\nNilai Mahasiswa 2:\")\n",
        "print(\"Nama: \", nilai_mahasiswa2[0])\n",
        "#sama seperti sebelumnya, nama itu elemen ke 0 jadi yg dipanggil index ke 0\n",
        "print(\"Nilai: \", nilai_mahasiswa2[1])\n",
        "#karena nilai itu elemen ke 1 pada nilai_mahasiswa2 maka yg dipanggil yaitu index ke 1\n",
        "\n",
        "print(\"\\nNilai Mahasiswa 3:\")\n",
        "print(\"Nama: \", nilai_mahasiswa3[0])\n",
        "print(\"Nilai: \", nilai_mahasiswa3[1])\n",
        "\n",
        "#Program di atas menggunakan tuples untuk menyimpan data nilai mahasiswa\n",
        "#Setiap tuple berisi nama mahasiswa dan daftar nilai dalam bentuk list \n",
        "#Data nilai mahasiswa kemudian diakses dan ditampilkan menggunakan indexing pada tuples.\n"
      ],
      "metadata": {
        "colab": {
          "base_uri": "https://localhost:8080/"
        },
        "id": "t-cIuvIgzKnf",
        "outputId": "e81af473-f030-4e87-b3ab-b789dc5b3b8e"
      },
      "execution_count": null,
      "outputs": [
        {
          "output_type": "stream",
          "name": "stdout",
          "text": [
            "\n",
            "Nilai Mahasiswa 1:\n",
            "Nama:  John\n",
            "Nilai:  [85, 90, 78, 92]\n",
            "\n",
            "Nilai Mahasiswa 2:\n",
            "Nama:  Jane\n",
            "Nilai:  [78, 88, 92, 76]\n",
            "\n",
            "Nilai Mahasiswa 3:\n",
            "Nama:  Tom\n",
            "Nilai:  [92, 95, 89, 88]\n"
          ]
        }
      ]
    },
    {
      "cell_type": "markdown",
      "source": [
        "**5.18** **DICTIONARIES**\n",
        "\n",
        "Dictionaries digunakan jika data nya terkait satu sama lain. Misalnya data\n",
        "seseorang yang terdiri dari umur, nama, tanggal lahir merupakan satu kesatuan\n",
        "data yang bersumber dari orang tersebut"
      ],
      "metadata": {
        "id": "3qRJQKJ-1xNv"
      }
    },
    {
      "cell_type": "code",
      "source": [
        "#contoh dictionaries\n",
        "#merubah angka menjadi sebuah huruf dari sebutan angka tsb\n",
        "\n",
        "angka = {\n",
        "    \"0\" : \"nol\",\n",
        "    \"1\" : \"satu\",\n",
        "    \"2\" : \"dua\",\n",
        "    \"3\" : \"tiga\",\n",
        "    \"4\" : \"empat\",\n",
        "    \"5\" : \"lima\",\n",
        "    \"6\" : \"enam\",\n",
        "    \"7\" : \"tujuh\",\n",
        "    \"8\" : \"delapan\",\n",
        "    \"9\" : \"sembilan\",\n",
        "}\n",
        "\n",
        "nomor_HP = input (\"Masukkan nomor HP anda : \")\n",
        "nomor_angka = \"\"\n",
        "for isi in nomor_HP:\n",
        "    nomor_angka += angka.get(isi) + \" \"\n",
        "print (nomor_angka)"
      ],
      "metadata": {
        "colab": {
          "base_uri": "https://localhost:8080/"
        },
        "id": "VOPX0idh2fmF",
        "outputId": "ee30bdd6-d5d4-4e4c-a0e9-fa22df58734c"
      },
      "execution_count": null,
      "outputs": [
        {
          "output_type": "stream",
          "name": "stdout",
          "text": [
            "Masukkan nomor HP anda : 081250539241\n",
            "nol delapan satu dua lima nol lima tiga sembilan dua empat satu \n"
          ]
        }
      ]
    },
    {
      "cell_type": "code",
      "source": [
        "#LATIHAN KE 1 DICTIONARY\n",
        "#Data mahasiswa dengan DICTIONARY\n",
        "\n",
        "#membuat dictionary berisi data mahasiswa\n",
        "mahasiswa1 = {'nama': 'John Doe', \n",
        "              'usia': 21, \n",
        "              'universitas': 'Universitas Udayana', \n",
        "              'nilai': [85, 90, 78, 92]}\n",
        "\n",
        "mahasiswa2 = {'nama': 'Jane Smith', \n",
        "              'usia': 22, \n",
        "              'universitas': 'Universitas Airlangga', \n",
        "              'nilai': [78, 88, 92, 76]}\n",
        "\n",
        "mahasiswa3 = {'nama': 'Tom Brown', \n",
        "              'usia': 20, \n",
        "              'universitas': 'Universitas Brawijaya', \n",
        "              'nilai': [92, 95, 89, 88]}\n",
        "\n",
        "#menampilkan data mahasiswa\n",
        "#jika pada tuples memanggil variabel dengan urutan index \n",
        "#maka pada dictionaries memanggil data dengan tipe dari index \n",
        "#misalkan pada ('nama' : 'John Doe') itu tipe dari index 'John Doe' itu \"nama\"\n",
        "#begitupun yg terjadi dengan selanjutnya\n",
        "print(\"\\nData Mahasiswa 1:\")\n",
        "print(\"Nama: \", mahasiswa1['nama'])\n",
        "print(\"Usia: \", mahasiswa1['usia'])\n",
        "print(\"Universitas: \", mahasiswa1['universitas'])\n",
        "print(\"Nilai: \", mahasiswa1['nilai'])\n",
        "\n",
        "print(\"\\nData Mahasiswa 2:\")\n",
        "print(\"Nama: \", mahasiswa2['nama'])\n",
        "print(\"Usia: \", mahasiswa2['usia'])\n",
        "print(\"Universitas: \", mahasiswa2['universitas'])\n",
        "print(\"Nilai: \", mahasiswa2['nilai'])\n",
        "\n",
        "print(\"\\nData Mahasiswa 3:\")\n",
        "print(\"Nama: \", mahasiswa3['nama'])\n",
        "print(\"Usia: \", mahasiswa3['usia'])\n",
        "print(\"Universitas: \", mahasiswa3['universitas'])\n",
        "print(\"Nilai: \", mahasiswa3['nilai'])\n"
      ],
      "metadata": {
        "id": "2zNDUQ4m3ljC",
        "colab": {
          "base_uri": "https://localhost:8080/"
        },
        "outputId": "1362ac82-011c-4eb6-89ca-b9cc9e5c558f"
      },
      "execution_count": null,
      "outputs": [
        {
          "output_type": "stream",
          "name": "stdout",
          "text": [
            "\n",
            "Data Mahasiswa 1:\n",
            "Nama:  John Doe\n",
            "Usia:  21\n",
            "Universitas:  Universitas Udayana\n",
            "Nilai:  [85, 90, 78, 92]\n",
            "\n",
            "Data Mahasiswa 2:\n",
            "Nama:  Jane Smith\n",
            "Usia:  22\n",
            "Universitas:  Universitas Airlangga\n",
            "Nilai:  [78, 88, 92, 76]\n",
            "\n",
            "Data Mahasiswa 3:\n",
            "Nama:  Tom Brown\n",
            "Usia:  20\n",
            "Universitas:  Universitas Brawijaya\n",
            "Nilai:  [92, 95, 89, 88]\n"
          ]
        }
      ]
    },
    {
      "cell_type": "code",
      "source": [
        "#LATIHAN KE 2\n",
        "#Konversi mata uang menggunakan dictionary\n",
        "\n",
        "#mendeskripsikan nilai mata uang \n",
        "konversi_mata_uang = {\"USD\": 15000, \n",
        "                      \"EUR\": 17500, \n",
        "                      \"JPY\": 130, \n",
        "                      \"GBP\": 20000}\n",
        "\n",
        "#mengakses dan menampilkan nilai konversi mata uang\n",
        "mata_uang = input(\"Masukkan kode mata uang (USD, EUR, JPY, GBP): \")\n",
        "#menginput kode mata uang dengan salah satu tipe dari (USD, EUR, JPY, GBP)\n",
        "jumlah_uang = float(input(\"Masukkan jumlah uang: \"))\n",
        "#pada kondisi yg ini masukkan nilai mata uang yg ingin dikonversi dari rupiah ke mata uang yg kita masukkan sebelumnya\n",
        "\n",
        "kurs = konversi_mata_uang.get(mata_uang)\n",
        "#disini kurs di deklarasikan dulu untuk digunakan dalam if\n",
        "\n",
        "if kurs:\n",
        "    jumlah_konversi = jumlah_uang * kurs\n",
        "    print(\"Hasil konversi {} {} adalah: {}\".format(jumlah_uang, mata_uang, jumlah_konversi))\n",
        "    #pada proses ini jika data yg di input sesuai dengan deskripsi maka program akan jalan disini terlebih dahulu\n",
        "    #jika data yg dimasukkan benar pada (USD, EUR, JPY, GBP) sesuai maka outputnya akan hasil dari konversi mata uang tsb\n",
        "    #tapi jika misalkan tipe mata uang yg kita masukkan dalam huruf kecil maka programnya itu akan melewati ini dan lanjut ke kondisi selanjutnya pada else\n",
        "else:\n",
        "    print(\"Kode mata uang tidak valid.\")\n",
        "    #output ini akan keluar bila data yg dimasukkan tidak sesuai\n"
      ],
      "metadata": {
        "id": "EEhow6KW42xs",
        "colab": {
          "base_uri": "https://localhost:8080/"
        },
        "outputId": "0705fb5e-c3b6-4245-a784-a48b9a51f43a"
      },
      "execution_count": null,
      "outputs": [
        {
          "output_type": "stream",
          "name": "stdout",
          "text": [
            "Masukkan kode mata uang (USD, EUR, JPY, GBP): USD\n",
            "Masukkan jumlah uang: 20000\n",
            "Hasil konversi 20000.0 USD adalah: 300000000.0\n"
          ]
        }
      ]
    },
    {
      "cell_type": "markdown",
      "source": [
        "**5.19** **FUNGSI**\n",
        "\n",
        "Pada dasarnya fungsi\n",
        "dibentuk untuk **menghidari** **pengulangan** pembuatan program secara manual\n",
        "dimana fungsi tersebut memiliki pengulangan yang tinggi dalam program yang\n",
        "kita buat. Jadi untuk mempermudah dan meringkas program yang kita buat,\n",
        "setiap fungsi tersebut dibutuhkan tinggal kita panggil\n",
        "\n",
        "TUGAS FUNGSI YAITU :\n",
        "1. menjalankan perintah\n",
        "2. menampilkan hasil perhitungan"
      ],
      "metadata": {
        "id": "SeH4no3x3mNt"
      }
    },
    {
      "cell_type": "code",
      "source": [
        "#contoh fungsi\n",
        "\n",
        "def full_nama (first_name, last_name):\n",
        "    print (f\"Nama lengkapnya adalah {nama_depan} {nama_belakang}\")\n",
        "\n",
        "first_name = input (\"Nama depan anda adalah \")\n",
        "last_name = input (\"Nama belakang anda adalah \")\n",
        "full_nama (nama_depan, nama_belakang)"
      ],
      "metadata": {
        "colab": {
          "base_uri": "https://localhost:8080/"
        },
        "id": "yD2rXetJ6S61",
        "outputId": "623ce476-df39-44d6-c012-582aab0c8858"
      },
      "execution_count": null,
      "outputs": [
        {
          "output_type": "stream",
          "name": "stdout",
          "text": [
            "Nama belakang anda adalah  = ser\n",
            "Nama lengkapnya adalah serly nura\n"
          ]
        }
      ]
    },
    {
      "cell_type": "code",
      "source": [
        "def luas_segitiga (alas,tinggi):\n",
        "    luas = (1/2) * alas * tinggi\n",
        "    return luas"
      ],
      "metadata": {
        "id": "xe0Nv47x3zw_"
      },
      "execution_count": null,
      "outputs": []
    },
    {
      "cell_type": "code",
      "source": [
        "#LATIHAN KE 1 \n",
        "#MEMBUAT FUNGSI DENGAN MENJALANKAN PERINTAH\n",
        "\n",
        "#fungsi untuk menambahkan dua angka\n",
        "def tambah(angka1, angka2):\n",
        "#disini hanya mendeskripsikan bahwa ada dua angka yg akan dioperasikan\n",
        "    return angka1 + angka2\n",
        "    #dua angka akan melakukan operasi penjumlahan apabila sudah terdapat dua angka yg dimasukkan kalau cuman satu maka tida jalan\n",
        "\n",
        "#fungsi untuk mengurangi dua angka\n",
        "def kurang(angka1, angka2):\n",
        "#sama seperti penjumlahan, bahwa di pengurangan membutuhkan dua angka agar bisa menjalankan operasi pengurangan\n",
        "    return angka1 - angka2\n",
        "    #pengurangan ini akan berjalan dari angka pertama dikurang dengan angka kedua, tidak dimulai dari angka terbedar\n",
        "    #sehingga hasil yg keluar bisa merupakan bilangan bertipe int dan juga float\n",
        "\n",
        "#fungsi untuk mengalikan dua angka\n",
        "def kali(angka1, angka2):\n",
        "    return angka1 * angka2\n",
        "\n",
        "#fungsi untuk membagi dua angka\n",
        "def bagi(angka1, angka2):\n",
        "    if angka2 == 0:\n",
        "        print(\"Error: Pembagian oleh nol tidak diperbolehkan.\")\n",
        "        return None\n",
        "#pada fungsi yg menggunakan operasi pembagian yaitu program akan berjalan apabila angka kedua yg dimasukkan tidak sama dengan 0\n",
        "#yg artinya pembilang dari pembagian tiidak boleh 0\n",
        "#jika bilangan kedua yaitu 0, maka output yg keluar itu pada kondisi yg pertama\n",
        "    else:\n",
        "        return angka1 / angka2\n",
        "        #jika bilangan kedua tidak sama dengan 0, maka outputnya akan bilangan pertama dibagi dengan bilangan kedua\n",
        "        #yg terjalankan akan pada kondisi kedua apabila kondisi pertama tidak memenuhi syarat\n",
        "\n",
        "#fungsi untuk menjalankan perintah yang kita masukkan\n",
        "def jalankan_perintah():\n",
        "    while True:\n",
        "        print(\"\\nPilih operasi:\")\n",
        "        print(\"1. Tambah\")\n",
        "        print(\"2. Kurang\")\n",
        "        print(\"3. Kali\")\n",
        "        print(\"4. Bagi\")\n",
        "        print(\"5. Keluar\")\n",
        "        pilihan = input(\"Masukkan pilihan (1/2/3/4/5): \")\n",
        "#disini kita deskripsikan dulu untuk memanggil suatu perintah\n",
        "#disini saya menggunakan while dan kemudian kita disuruh menginput angka dari operasi yg ingin kita hitung\n",
        "\n",
        "        if pilihan == '5':\n",
        "            print(\"Terima kasih telah menggunakan program ini.\")\n",
        "            break\n",
        "            #apabila kita masukkan angka 5 maka program akan selesai dan tidak menjalankan kondisi selanjutnya\n",
        "\n",
        "        angka1 = float(input(\"Masukkan angka pertama: \"))\n",
        "        #memasukkan angka pertama disini bisa berupa tipe data int ataupun float\n",
        "        angka2 = float(input(\"Masukkan angka kedua: \"))\n",
        "        #pada angka kedua juga sama bisa berupa tipe data int ataupun float\n",
        "\n",
        "        if pilihan == '1':\n",
        "            hasil = tambah(angka1, angka2)\n",
        "            #apabila angka 1 di input maka kondisi ini akan berproses menghitung dan melanjutkan ke kondisi kedua\n",
        "        elif pilihan == '2':\n",
        "            hasil = kurang(angka1, angka2)\n",
        "            #apabila angka 2 di input maka kondisi ini akan berproses menghitung dan melanjutkan ke kondisi selanjutnya\n",
        "        elif pilihan == '3':\n",
        "            hasil = kali(angka1, angka2)\n",
        "             #apabila angka 3 di input maka kondisi ini akan berproses menghitung dan melanjutkan ke kondisi berikutnya\n",
        "        elif pilihan == '4':\n",
        "            hasil = bagi(angka1, angka2)\n",
        "             #apabila angka 4 di input maka kondisi ini akan berproses menghitung dan melanjutkan ke kondisi selanjutnya\n",
        "             #jika ada angka yg diinput diluar dari variabel yg di deskripsikan maka outputnya akan berupa pada else dibawah\n",
        "             #dan program tidak akan terhenti apabila tidak munculnya angka 5 yg melakukan perintah keluar\n",
        "        else:\n",
        "            print(\"\\nPilihan tidak valid. Silakan coba lagi.\")\n",
        "            continue\n",
        "\n",
        "        if hasil is not None:\n",
        "            print(\"\\nHasil: \", hasil)\n",
        "            #untuk menghitung hasil dari operasi pada nomor 1,2,3, dan 4\n",
        "\n",
        "#menjalankan program\n",
        "jalankan_perintah()\n",
        "\n",
        "#Program di atas memungkinkan untuk memilih operasi matematika \n",
        "#(tambah, kurang, kali, atau bagi) yang ingin dilakukan pada dua angka yang akan dimasukkan. \n",
        "#Hasil dari operasi matematika tersebut kemudian ditampilkan. \n",
        "#kita dapat mengulangi perintah sebanyak yang diinginkan dan keluar dari program dengan memilih opsi \"Keluar\""
      ],
      "metadata": {
        "colab": {
          "base_uri": "https://localhost:8080/"
        },
        "id": "iWcfX1dX1FM2",
        "outputId": "964bc329-bbac-4141-a1aa-2c5b311923e5"
      },
      "execution_count": null,
      "outputs": [
        {
          "output_type": "stream",
          "name": "stdout",
          "text": [
            "\n",
            "Pilih operasi:\n",
            "1. Tambah\n",
            "2. Kurang\n",
            "3. Kali\n",
            "4. Bagi\n",
            "5. Keluar\n",
            "Masukkan pilihan (1/2/3/4/5): 1\n",
            "Masukkan angka pertama: 9\n",
            "Masukkan angka kedua: 765\n",
            "\n",
            "Hasil:  774.0\n",
            "\n",
            "Pilih operasi:\n",
            "1. Tambah\n",
            "2. Kurang\n",
            "3. Kali\n",
            "4. Bagi\n",
            "5. Keluar\n",
            "Masukkan pilihan (1/2/3/4/5): 3\n",
            "Masukkan angka pertama: 98\n",
            "Masukkan angka kedua: 99\n",
            "\n",
            "Hasil:  9702.0\n",
            "\n",
            "Pilih operasi:\n",
            "1. Tambah\n",
            "2. Kurang\n",
            "3. Kali\n",
            "4. Bagi\n",
            "5. Keluar\n",
            "Masukkan pilihan (1/2/3/4/5): 4\n",
            "Masukkan angka pertama: 34\n",
            "Masukkan angka kedua: 0\n",
            "Error: Pembagian oleh nol tidak diperbolehkan.\n",
            "\n",
            "Pilih operasi:\n",
            "1. Tambah\n",
            "2. Kurang\n",
            "3. Kali\n",
            "4. Bagi\n",
            "5. Keluar\n",
            "Masukkan pilihan (1/2/3/4/5): 5\n",
            "Terima kasih telah menggunakan program ini.\n"
          ]
        }
      ]
    },
    {
      "cell_type": "markdown",
      "source": [
        "**5.20** **NUMPY**\n",
        "\n",
        "**Numpy** merupakan salah satu Library dalam Python yang memiliki keunggulan\n",
        "dalam perhitungan menggunakan **vektor** dan **matriks** dalam berbagai dimensi.\n",
        "Hal pertama yang perlu dilakukan adalah memanggil Library Numpy sebagai\n",
        "berikut:"
      ],
      "metadata": {
        "id": "Q1lSIfAIBbj0"
      }
    },
    {
      "cell_type": "code",
      "source": [
        "import numpy as np\n",
        "#memasukkan library numpy pada collab agar bisa digunakan"
      ],
      "metadata": {
        "id": "QnsPSCEz53TH"
      },
      "execution_count": null,
      "outputs": []
    },
    {
      "cell_type": "markdown",
      "source": [
        "**5.20.1 PERINTAH DASAR PADA NUMPY**\n",
        "Berikut akan dipaparkan mengenai beberapa perintah dalam Numpy diantaranya\n",
        "memanggil Numpy, mengetahui dimensi dan ukuran variabel\n"
      ],
      "metadata": {
        "id": "B4MmVtOU7C75"
      }
    },
    {
      "cell_type": "code",
      "source": [
        "#contoh numpy pada array\n",
        "\n",
        "a = np.array ([80, 0, 5, 2, 7, 9])\n",
        "#'a' merupakan sebuah variabel yg mewakili elemen elemen\n",
        "#'np.array' merupakan tipe data array pada numpy\n",
        "#disini kita mendeskripsikan sebuah variabel a\n",
        "\n",
        "print (a)\n",
        "#menampilkan elemen dari variabel 'a'"
      ],
      "metadata": {
        "colab": {
          "base_uri": "https://localhost:8080/"
        },
        "id": "7gCTwAJ-6Dk7",
        "outputId": "8375d89b-da26-42ed-bcfb-9ba91868101a"
      },
      "execution_count": null,
      "outputs": [
        {
          "output_type": "stream",
          "name": "stdout",
          "text": [
            "[80  0  5  2  7  9]\n"
          ]
        }
      ]
    },
    {
      "cell_type": "code",
      "source": [
        "b = np.array ([[9, 0.3, 3, 6.5, 2], [2, 5, 0, 3.2, 4], \n",
        "               [4, 5, 2.3, 8, 99], [24, 72, 32, 55, 88]])\n",
        "print (b)"
      ],
      "metadata": {
        "colab": {
          "base_uri": "https://localhost:8080/"
        },
        "id": "TD4NAWezCGdP",
        "outputId": "a5b33134-6688-4011-da92-fb781ce0a6bd"
      },
      "execution_count": null,
      "outputs": [
        {
          "output_type": "stream",
          "name": "stdout",
          "text": [
            "[[ 9.   0.3  3.   6.5  2. ]\n",
            " [ 2.   5.   0.   3.2  4. ]\n",
            " [ 4.   5.   2.3  8.  99. ]\n",
            " [24.  72.  32.  55.  88. ]]\n"
          ]
        }
      ]
    },
    {
      "cell_type": "code",
      "source": [
        "c = np.array ([[4, 77, 33, 59], [12, 15, 9, 93], \n",
        "               [42, 61, 8, ], [90, 89, 88, 87]])\n",
        "print (c)"
      ],
      "metadata": {
        "colab": {
          "base_uri": "https://localhost:8080/"
        },
        "id": "rNqUfuavClI8",
        "outputId": "f0ba5b19-999b-4ac4-d6ac-bcd562ffd7bf"
      },
      "execution_count": null,
      "outputs": [
        {
          "output_type": "stream",
          "name": "stdout",
          "text": [
            "[[ 4 77 33 59]\n",
            " [12 15  9 93]\n",
            " [42 61  8  0]\n",
            " [90 89 88 87]]\n"
          ]
        }
      ]
    },
    {
      "cell_type": "code",
      "source": [
        "#LATIHAN KE 1\n",
        "\n",
        "import numpy as np\n",
        "\n",
        "#membuat array numpy\n",
        "array1 = np.array([1, 2, 3, 4, 5])\n",
        "array2 = np.array([6, 7, 8, 9, 10])\n",
        "\n",
        "#menampilkan array 1 dan array 2\n",
        "print(\"Array 1:\", array1)\n",
        "print(\"Array 2:\", array2)\n",
        "\n",
        "#menghitung operasi penjumlahan pada array\n",
        "hasil_penjumlahan = array1 + array2\n",
        "print(\"\\nHasil Penjumlahan:\", hasil_penjumlahan)\n",
        "\n",
        "#menghitung operasi pengurangan pada array\n",
        "hasil_pengurangan = array1 - array2\n",
        "print(\"\\nHasil Pengurangan:\", hasil_pengurangan)\n",
        "\n",
        "#menghitung operasi perkalian pada array\n",
        "hasil_perkalian = array1 * array2\n",
        "print(\"\\nHasil Perkalian:\", hasil_perkalian)\n",
        "\n",
        "#menghitung operasi pembagian pada array\n",
        "hasil_pembagian = array1 / array2\n",
        "print(\"\\nHasil Pembagian:\", hasil_pembagian)\n",
        "\n",
        "#menghitung operasi pangkat pada array\n",
        "hasil_pangkat = np.power(array1, array2)\n",
        "#np.power adalah sebuah fungsi pada library numpy di Python yang digunakan untuk menghitung hasil pangkat dari suatu array atau nilai tunggal. \n",
        "#np.power mengambil dua argumen, yaitu basis (array atau nilai tunggal) dan eksponen (array atau nilai tunggal) yang ingin dipangkatkan.\n",
        "\n",
        "print(\"\\nHasil Pangkat:\", hasil_pangkat)\n",
        "#Pada contoh di atas, np.power digunakan untuk menghitung hasil pangkat \n",
        "#dari array1 dengan basis array1 dan eksponen array2. \n",
        "#Hasil pangkat dari array1 dengan eksponen array2 akan ditampilkan sebagai hasil_pangkat.\n",
        "\n",
        "#menampilkan mean, nilai minimum, nilai maximum, dan jumlah dari array\n",
        "print(\"\\nMean Array 1:\", np.mean(array1))\n",
        "#mencari mean dari array 1\n",
        "\n",
        "print(\"\\nMin Array 2:\", np.min(array2))\n",
        "#menampilkan nilai minimum dari array 2\n",
        "#pada array 2 yaitu [6,7,8,9,10] maka nilai minimumnya yaitu 6 yg terletak pada index ke 0\n",
        "\n",
        "print(\"\\nMax Array 1:\", np.max(array1))\n",
        "#sama seperti nilai minimum tadi\n",
        "#elemen yg terdapat pada array 1 [1,2,3,4,5] maka nilai maximumnya yaitu 5 karena merupakan nilai tertinggi pada array 1\n",
        "\n",
        "print(\"\\nSum Array 2:\", np.sum(array2))\n",
        "#menjumlahkan semua elemen pada array 2\n",
        "#array 2 terdiri dari [6,7,8,9,10]\n",
        "#maka [6+7+8+9+10 = 40]\n",
        "\n",
        "x = array1.ndim\n",
        "#fungsi \"ndim\" digunakan untuk menentukan jumlah dimensi pada numpy\n",
        "y = array1. shape\n",
        "#fungsi \"shape\" digunakan untuk menghitung banyaknya jumlah baris dan kolom kolom array pada numpy\n",
        "print (\"\\n Banyaknya baris dalam Arrray 1 : \", x, \n",
        "       \"\\n Banyaknya kolom dalam Array 1 : \",y)\n",
        "\n",
        "x1 = array2.ndim\n",
        "y1 = array2.shape\n",
        "print (\"\\n Banyaknya baris dalam Arrray 2 : \", x, \n",
        "       \"\\n Banyaknya kolom dalam Array 2 : \",y)\n"
      ],
      "metadata": {
        "id": "Eh7SmWbeDEpg",
        "colab": {
          "base_uri": "https://localhost:8080/"
        },
        "outputId": "776c982c-12ed-4b72-812e-fd92ac02b72f"
      },
      "execution_count": null,
      "outputs": [
        {
          "output_type": "stream",
          "name": "stdout",
          "text": [
            "Array 1: [1 2 3 4 5]\n",
            "Array 2: [ 6  7  8  9 10]\n",
            "\n",
            "Hasil Penjumlahan: [ 7  9 11 13 15]\n",
            "\n",
            "Hasil Pengurangan: [-5 -5 -5 -5 -5]\n",
            "\n",
            "Hasil Perkalian: [ 6 14 24 36 50]\n",
            "\n",
            "Hasil Pembagian: [0.16666667 0.28571429 0.375      0.44444444 0.5       ]\n",
            "\n",
            "Hasil Pangkat: [      1     128    6561  262144 9765625]\n",
            "\n",
            "Mean Array 1: 3.0\n",
            "\n",
            "Min Array 2: 6\n",
            "\n",
            "Max Array 1: 5\n",
            "\n",
            "Sum Array 2: 40\n",
            "\n",
            " Banyaknya baris dalam Arrray 1 :  1 \n",
            " Banyaknya kolom dalam Array 1 :  (5,)\n",
            "\n",
            " Banyaknya baris dalam Arrray 2 :  1 \n",
            " Banyaknya kolom dalam Array 2 :  (5,)\n"
          ]
        }
      ]
    },
    {
      "cell_type": "markdown",
      "source": [
        "**5.20.2 MEMANGGIL ANGGOTA, KOLOM, DAN BARIS DENGAN NUMPY**"
      ],
      "metadata": {
        "id": "TqgAIl0a_bFO"
      }
    },
    {
      "cell_type": "code",
      "source": [
        "#LATIHAN memanggil anggota, kolom, dan baris pada numpy\n",
        "\n",
        "A = np.array ([[1,2,3,4], \n",
        "               [1.1,2.2,3.3,4.4], \n",
        "               [1,3,5,7], \n",
        "               [2,4,6,8], \n",
        "               [0,0,0,1]])\n",
        "#np.array() digunakan untuk membuat matriks NumPy dari list atau array\n",
        "\n",
        "A[0,3]\n",
        "#matrix[baris, kolom] digunakan untuk memanggil anggota matriks pada baris dan kolom tertentu\n",
        "#memanggil data array pada baris ke-0 dan kolom ke-3\n",
        "#karena data pada array terdpat data float, maka bilangan yg bertipe int mengikuti dengan ,0 dibelakang angka"
      ],
      "metadata": {
        "colab": {
          "base_uri": "https://localhost:8080/"
        },
        "id": "1gV8eTmx8ZwX",
        "outputId": "f5e5fc48-9f36-4e64-c32e-a10f773c25e0"
      },
      "execution_count": null,
      "outputs": [
        {
          "output_type": "execute_result",
          "data": {
            "text/plain": [
              "4.0"
            ]
          },
          "metadata": {},
          "execution_count": 23
        }
      ]
    },
    {
      "cell_type": "code",
      "source": [
        "A [1,:]\n",
        "#menampilkan semua data array pada baris ke-1 \n",
        "#Jika ingin memanggil seluruh kolom atau baris, kita dapat menggunakan : sebagai indeks."
      ],
      "metadata": {
        "colab": {
          "base_uri": "https://localhost:8080/"
        },
        "id": "9UWA3dOVAU_6",
        "outputId": "766555d9-7201-47db-8f23-3263677c19bd"
      },
      "execution_count": null,
      "outputs": [
        {
          "output_type": "execute_result",
          "data": {
            "text/plain": [
              "array([1.1, 2.2, 3.3, 4.4])"
            ]
          },
          "metadata": {},
          "execution_count": 24
        }
      ]
    },
    {
      "cell_type": "code",
      "source": [
        "A [:,2]\n",
        "#menampilkan seluruh data array pada kolom ke-2 "
      ],
      "metadata": {
        "colab": {
          "base_uri": "https://localhost:8080/"
        },
        "id": "ue-kA3ENAeDZ",
        "outputId": "41b8c137-ed6e-45bb-cd75-bcf2478429a1"
      },
      "execution_count": null,
      "outputs": [
        {
          "output_type": "execute_result",
          "data": {
            "text/plain": [
              "array([3. , 3.3, 5. , 6. , 0. ])"
            ]
          },
          "metadata": {},
          "execution_count": 25
        }
      ]
    },
    {
      "cell_type": "code",
      "source": [
        "A [0,1:3]\n",
        "#menampilkan data array dengan index ke-0, dari kolom 1 sampai 3 dan tidak termasuk kolom ke-3, jadi hanya kolom 1 dan kolom 2 "
      ],
      "metadata": {
        "colab": {
          "base_uri": "https://localhost:8080/"
        },
        "id": "XEDfycrbAmem",
        "outputId": "9c841670-fc43-4ffb-a14f-d51dc6544e2e"
      },
      "execution_count": null,
      "outputs": [
        {
          "output_type": "execute_result",
          "data": {
            "text/plain": [
              "array([2., 3.])"
            ]
          },
          "metadata": {},
          "execution_count": 26
        }
      ]
    },
    {
      "cell_type": "code",
      "source": [
        "A [0,0:3:2]\n",
        "#menampilkan  data array dengan baris ke-0 dan kolom ke-0 sampai kolom ke-3 dengan lompatan 2 atau dengan selisih 2 kali"
      ],
      "metadata": {
        "colab": {
          "base_uri": "https://localhost:8080/"
        },
        "id": "FLexYs6vAonO",
        "outputId": "4308feb8-4497-4d37-98d9-77f490d19dff"
      },
      "execution_count": null,
      "outputs": [
        {
          "output_type": "execute_result",
          "data": {
            "text/plain": [
              "array([1., 3.])"
            ]
          },
          "metadata": {},
          "execution_count": 27
        }
      ]
    },
    {
      "cell_type": "code",
      "source": [
        "A [0,0] = 100\n",
        "#mengganti data array baris ke-0 dan kolom ke-0\n",
        "print (A)"
      ],
      "metadata": {
        "colab": {
          "base_uri": "https://localhost:8080/"
        },
        "id": "rN2FFOEmArPf",
        "outputId": "e3fec9cc-0ae1-44ca-ce17-f1d1cae2d352"
      },
      "execution_count": null,
      "outputs": [
        {
          "output_type": "stream",
          "name": "stdout",
          "text": [
            "[[100.    2.    3.    4. ]\n",
            " [  1.1   2.2   3.3   4.4]\n",
            " [  1.    3.    5.    7. ]\n",
            " [  2.    4.    6.    8. ]\n",
            " [  0.    0.    0.    1. ]]\n"
          ]
        }
      ]
    },
    {
      "cell_type": "code",
      "source": [],
      "metadata": {
        "id": "wxK5prvoAuCd"
      },
      "execution_count": null,
      "outputs": []
    },
    {
      "cell_type": "markdown",
      "source": [
        "**5.20.3 MATRIX PADA NUMPY**\n",
        "\n"
      ],
      "metadata": {
        "id": "x6Mjxau91LIu"
      }
    },
    {
      "cell_type": "code",
      "source": [
        "#LATIHAN KE-1 MATRIX PADA NUMPY\n",
        "\n",
        "import numpy as np\n",
        "\n",
        "a = np.zeros((10,10))\n",
        "print (\"Matrix dengan ordo 10x10 : \\n\", a)\n",
        "\n",
        "b = np.identity(10)\n",
        "print (\"\\n Matrix identitas dengan ordo 10x10 : \\n\", b)\n",
        "\n",
        "c = 9*b\n",
        "print (\"\\n Mengganti nilai dari matrix identitas : \\n\", c)\n",
        "#disini artinya merubah elemen dari matrix identitas, matrix c mempunyai diagonal utama dengan angka 9\n",
        "#karena sebelumnya matrix identitas tsb mempunyai angka 1\n",
        "#maka disini diubah menjadi 9\n",
        "\n",
        "d = np.ones((8,8))\n",
        "#matrix 1 dengan ordo 8x8\n",
        "e = np.identity(8)*8\n",
        "#matrix identitas dengan ordo 8x8\n",
        "f = d + e\n",
        "#menggabungkan dua buah matrix yaitu matrix 1 dan matrix identitas yg tadi setelah diubah menjadi 9\n",
        "print (\"\\n Menggabungkan dua matrix yg memiliki ordo yg sama : \\n\", f)\n",
        "\n",
        "c[1:-1,1:-1] = f\n",
        "print (\"\\n Mengganti bagian tengah dari matrix c yg berisi nilai dari matrix f :  \\n \",c)\n",
        "#Pernyataan ini mengganti bagian tengah dari matriks c dengan nilai dari matriks f\n",
        "#Pengindeksan 1:-1 berarti mengambil indeks dari 1 hingga satu sebelum indeks terakhir, \n",
        "#yang menghasilkan subset matriks c tanpa baris pertama dan terakhir serta kolom pertama dan terakhir.\n",
        "\n",
        "g = np.identity(6)*9\n",
        "# Pernyataan ini membuat matriks identitas 6x6 dengan nilai diagonal utama yang dikalikan dengan 9, \n",
        "#dan hasilnya disimpan dalam variabel g.\n",
        "c [2:-2,2:-2] = g\n",
        "#Pernyataan ini mengganti bagian tengah matriks c dengan matriks g, \n",
        "#menggunakan pengindeksan 2:-2 untuk mengambil subset matriks c tanpa 2 baris pertama dan 2 terakhir serta 2 kolom pertama dan 2 terakhir.\n",
        "print (\"\\n Matrix identitas ordo 6x6 dengan diagonal utama dikalikan dengan 9 : \\n \", c)\n",
        "\n",
        "h = np.ones ((4,4))*2\n",
        "#Pernyataan ini membuat matriks 4x4 dengan semua elemen bernilai 2 menggunakan fungsi np.ones dan mengalikannya dengan 2 untuk menghasilkan matriks h yang berisi semua nilai 2.\n",
        "i = np.identity(4)*7\n",
        "#Pernyataan ini membuat matriks identitas 4x4 dengan nilai diagonal utama yang dikalikan dengan 7, dan hasilnya disimpan dalam variabel i.\n",
        "j = h + i\n",
        "#Pernyataan ini menjumlahkan matriks h dan i secara elemen-wise, sehingga menghasilkan matriks j yang merupakan penjumlahan dari matriks h dan i.\n",
        "print (\"\\n Penggabungan dari Matrix h dan matrix i : \\n\", j)\n",
        "\n",
        "c[3:-3,3:-3] = j\n",
        "#Pernyataan ini mengganti bagian tengah matriks c dengan matriks j menggunakan pengindeksan 3:-3 untuk mengambil subset matriks c tanpa 3 baris pertama dan 3 terakhir serta 3 kolom pertama dan 3 terakhir.\n",
        "print (\"\\n Menampilkan matrix dengan mengganti bagian tengah matrix : \\n\", c)\n",
        "\n",
        "k = np.identity (2)*9\n",
        "#Pada baris ini, kita membuat sebuah matriks identitas 2x2 menggunakan fungsi np.identity(2), yang menghasilkan matriks identitas dengan ukuran 2x2. \n",
        "#Kemudian, matriks identitas tersebut dikalikan dengan angka 9 menggunakan operator perkalian *, sehingga setiap elemen dalam matriks identitas akan dikalikan dengan 9 \n",
        "#Hasilnya disimpan dalam variabel k.\n",
        "c [4:-4,4:-4] = k\n",
        "#Pada baris ini, kita mengganti bagian tertentu dari matriks c dengan matriks k. \n",
        "#Bagian matriks c yang diganti diindeks menggunakan slicing dengan sintaksis [4:-4, 4:-4]\n",
        "#Slicing ini mengambil potongan dari baris ke-4 hingga baris ke-(n-4), dan kolom ke-4 hingga kolom ke-(n-4), di mana n adalah ukuran matriks c pada dimensi yang sesuai. \n",
        "#Kemudian, kita mengganti potongan ini dengan matriks k menggunakan operator =.\n",
        "print (\"\\n Matrix identitas dengan pola tertentu : \\n\", c)\n"
      ],
      "metadata": {
        "colab": {
          "base_uri": "https://localhost:8080/"
        },
        "id": "Ll0JN2bZ1-8L",
        "outputId": "18439000-7a11-4210-f1e8-0125c227bd2e"
      },
      "execution_count": null,
      "outputs": [
        {
          "output_type": "stream",
          "name": "stdout",
          "text": [
            "Matrix dengan ordo 10x10 : \n",
            " [[0. 0. 0. 0. 0. 0. 0. 0. 0. 0.]\n",
            " [0. 0. 0. 0. 0. 0. 0. 0. 0. 0.]\n",
            " [0. 0. 0. 0. 0. 0. 0. 0. 0. 0.]\n",
            " [0. 0. 0. 0. 0. 0. 0. 0. 0. 0.]\n",
            " [0. 0. 0. 0. 0. 0. 0. 0. 0. 0.]\n",
            " [0. 0. 0. 0. 0. 0. 0. 0. 0. 0.]\n",
            " [0. 0. 0. 0. 0. 0. 0. 0. 0. 0.]\n",
            " [0. 0. 0. 0. 0. 0. 0. 0. 0. 0.]\n",
            " [0. 0. 0. 0. 0. 0. 0. 0. 0. 0.]\n",
            " [0. 0. 0. 0. 0. 0. 0. 0. 0. 0.]]\n",
            "\n",
            " Matrix identitas dengan ordo 10x10 : \n",
            " [[1. 0. 0. 0. 0. 0. 0. 0. 0. 0.]\n",
            " [0. 1. 0. 0. 0. 0. 0. 0. 0. 0.]\n",
            " [0. 0. 1. 0. 0. 0. 0. 0. 0. 0.]\n",
            " [0. 0. 0. 1. 0. 0. 0. 0. 0. 0.]\n",
            " [0. 0. 0. 0. 1. 0. 0. 0. 0. 0.]\n",
            " [0. 0. 0. 0. 0. 1. 0. 0. 0. 0.]\n",
            " [0. 0. 0. 0. 0. 0. 1. 0. 0. 0.]\n",
            " [0. 0. 0. 0. 0. 0. 0. 1. 0. 0.]\n",
            " [0. 0. 0. 0. 0. 0. 0. 0. 1. 0.]\n",
            " [0. 0. 0. 0. 0. 0. 0. 0. 0. 1.]]\n",
            "\n",
            " Mengganti nilai dari matrix identitas : \n",
            " [[9. 0. 0. 0. 0. 0. 0. 0. 0. 0.]\n",
            " [0. 9. 0. 0. 0. 0. 0. 0. 0. 0.]\n",
            " [0. 0. 9. 0. 0. 0. 0. 0. 0. 0.]\n",
            " [0. 0. 0. 9. 0. 0. 0. 0. 0. 0.]\n",
            " [0. 0. 0. 0. 9. 0. 0. 0. 0. 0.]\n",
            " [0. 0. 0. 0. 0. 9. 0. 0. 0. 0.]\n",
            " [0. 0. 0. 0. 0. 0. 9. 0. 0. 0.]\n",
            " [0. 0. 0. 0. 0. 0. 0. 9. 0. 0.]\n",
            " [0. 0. 0. 0. 0. 0. 0. 0. 9. 0.]\n",
            " [0. 0. 0. 0. 0. 0. 0. 0. 0. 9.]]\n",
            "\n",
            " Menggabungkan dua matrix yg memiliki ordo yg sama : \n",
            " [[9. 1. 1. 1. 1. 1. 1. 1.]\n",
            " [1. 9. 1. 1. 1. 1. 1. 1.]\n",
            " [1. 1. 9. 1. 1. 1. 1. 1.]\n",
            " [1. 1. 1. 9. 1. 1. 1. 1.]\n",
            " [1. 1. 1. 1. 9. 1. 1. 1.]\n",
            " [1. 1. 1. 1. 1. 9. 1. 1.]\n",
            " [1. 1. 1. 1. 1. 1. 9. 1.]\n",
            " [1. 1. 1. 1. 1. 1. 1. 9.]]\n",
            "\n",
            " Mengganti bagian tengah dari matrix c yg berisi nilai dari matrix f :  \n",
            "  [[9. 0. 0. 0. 0. 0. 0. 0. 0. 0.]\n",
            " [0. 9. 1. 1. 1. 1. 1. 1. 1. 0.]\n",
            " [0. 1. 9. 1. 1. 1. 1. 1. 1. 0.]\n",
            " [0. 1. 1. 9. 1. 1. 1. 1. 1. 0.]\n",
            " [0. 1. 1. 1. 9. 1. 1. 1. 1. 0.]\n",
            " [0. 1. 1. 1. 1. 9. 1. 1. 1. 0.]\n",
            " [0. 1. 1. 1. 1. 1. 9. 1. 1. 0.]\n",
            " [0. 1. 1. 1. 1. 1. 1. 9. 1. 0.]\n",
            " [0. 1. 1. 1. 1. 1. 1. 1. 9. 0.]\n",
            " [0. 0. 0. 0. 0. 0. 0. 0. 0. 9.]]\n",
            "\n",
            " Matrix identitas ordo 6x6 dengan diagonal utama dikalikan dengan 9 : \n",
            "  [[9. 0. 0. 0. 0. 0. 0. 0. 0. 0.]\n",
            " [0. 9. 1. 1. 1. 1. 1. 1. 1. 0.]\n",
            " [0. 1. 9. 0. 0. 0. 0. 0. 1. 0.]\n",
            " [0. 1. 0. 9. 0. 0. 0. 0. 1. 0.]\n",
            " [0. 1. 0. 0. 9. 0. 0. 0. 1. 0.]\n",
            " [0. 1. 0. 0. 0. 9. 0. 0. 1. 0.]\n",
            " [0. 1. 0. 0. 0. 0. 9. 0. 1. 0.]\n",
            " [0. 1. 0. 0. 0. 0. 0. 9. 1. 0.]\n",
            " [0. 1. 1. 1. 1. 1. 1. 1. 9. 0.]\n",
            " [0. 0. 0. 0. 0. 0. 0. 0. 0. 9.]]\n",
            "\n",
            " Penggabungan dari Matrix h dan matrix i : \n",
            " [[9. 2. 2. 2.]\n",
            " [2. 9. 2. 2.]\n",
            " [2. 2. 9. 2.]\n",
            " [2. 2. 2. 9.]]\n",
            "\n",
            " Menampilkan matrix dengan mengganti bagian tengah matrix : \n",
            " [[9. 0. 0. 0. 0. 0. 0. 0. 0. 0.]\n",
            " [0. 9. 1. 1. 1. 1. 1. 1. 1. 0.]\n",
            " [0. 1. 9. 0. 0. 0. 0. 0. 1. 0.]\n",
            " [0. 1. 0. 9. 2. 2. 2. 0. 1. 0.]\n",
            " [0. 1. 0. 2. 9. 2. 2. 0. 1. 0.]\n",
            " [0. 1. 0. 2. 2. 9. 2. 0. 1. 0.]\n",
            " [0. 1. 0. 2. 2. 2. 9. 0. 1. 0.]\n",
            " [0. 1. 0. 0. 0. 0. 0. 9. 1. 0.]\n",
            " [0. 1. 1. 1. 1. 1. 1. 1. 9. 0.]\n",
            " [0. 0. 0. 0. 0. 0. 0. 0. 0. 9.]]\n",
            "\n",
            " Matrix identitas dengan pola tertentu : \n",
            " [[9. 0. 0. 0. 0. 0. 0. 0. 0. 0.]\n",
            " [0. 9. 1. 1. 1. 1. 1. 1. 1. 0.]\n",
            " [0. 1. 9. 0. 0. 0. 0. 0. 1. 0.]\n",
            " [0. 1. 0. 9. 2. 2. 2. 0. 1. 0.]\n",
            " [0. 1. 0. 2. 9. 0. 2. 0. 1. 0.]\n",
            " [0. 1. 0. 2. 0. 9. 2. 0. 1. 0.]\n",
            " [0. 1. 0. 2. 2. 2. 9. 0. 1. 0.]\n",
            " [0. 1. 0. 0. 0. 0. 0. 9. 1. 0.]\n",
            " [0. 1. 1. 1. 1. 1. 1. 1. 9. 0.]\n",
            " [0. 0. 0. 0. 0. 0. 0. 0. 0. 9.]]\n"
          ]
        }
      ]
    },
    {
      "cell_type": "code",
      "source": [
        "#LATIHAN KE-2 MATRIX PADA NUMPY\n",
        "\n",
        "import numpy as np\n",
        "\n",
        "a = np.ones((2,3))\n",
        "print (\"Matrix 1 dengan ordo 2x3  : \\n\", a)\n",
        "# \"np.ones\" digunakan untuk membuat matrix dengan ordo tertentu yg elemennya berisi angka 1 pada numpy\n",
        "# \"np.ones((2,3))\" pada angka pertama itu untuk menentukan jumlah baris dan angka kedua untuk menentukan jumlah kolom\n",
        "# misal ((2,3)) yaitu kita akan membuat matrix dengan jumlah baris 2, dan kolomnya berjumlah 3\n",
        "\n",
        "b = np.zeros((3,2))\n",
        "print (\"\\n Matrix 0 dengan ordo 3x2 : \\n\", b)\n",
        "# \"np.zeros\" digunakan untuk membuat matrix dengan seluruh elemennya berisi 0\n",
        "# ((3,2)) yaitu untuk menentukan jumlah baris, jumlah kolom\n",
        "\n",
        "c = np.identity (4)\n",
        "print (\"\\n Matrix identitas dengan ordo 4x4 : \\n\", c)\n",
        "# \"np.identity\" digunakan untuk membuat matrix identitas\n",
        "#yaitu matrix dengan ordo yg sama dan memiliki diagonal utama\n",
        "# \"np.identity (4)\" angka 4 disini untuk menentukan berapa jumlah ordo yg diinginkan\n",
        "# karena matrix identitas pastilah bernilai sama baris dan kolomnya, maka hanya satu angka saja yg dimasukkan\n",
        "\n",
        "d = np.ones ((2,3,4))\n",
        "print (\"\\n Akan dibuat 2 data matrix 1 dengan ordo 3x4 : \\n\", d)\n",
        "# \"np.ones\" untuk membuat matrix dengan semua elemennya berisi satu\n",
        "# \"((2,3,4))\" angka pertama menunjukkan berapa kali matrix akan dibuat, jadi disini angka 2 karena akan dibentuk 2 matrix\n",
        "#angka kedua untuk menentukan jumlah baris\n",
        "#angka ketiga untuk menentukan jumlah kolom\n",
        "#jadi kesimpulannya, akan dibuat matrix dengan ordo 3x4 sebanyak 2 kali atau ada 2 data matrix yg berordo 3x4\n",
        "\n",
        "e = np.full ((3,2),9)\n",
        "print (\"\\n Matrix 9 dengan ordo 3x2 : \\n \", e)\n",
        "# \"np.full\" digunakan untuk memanggil matrix dengan isi elemen yg ditentukan sebelumnya\n",
        "# \"((3,2),9)\" disini angka pertama dan kedua itu untuk menentukan baris dan kolom\n",
        "# angka ketiga yaitu sembarang angka yg kita tentukan, contohnya kita ingin matrix yg berisi angka 9 maka bisa dimasukkan angka 9 stelah tanda kurung dari ordo\n",
        "\n",
        "f = np.random.rand (4,3)\n",
        "print (\"\\n Matrix yg mempunyai sebarang elemen dengan ordo 4x3 : \\n\", f)\n",
        "# \"np.random.rand\" untuk memanggil elemen random di baris dan kolom\n",
        "# \"(4,3)\" itu untuk jumlah baris, jumlah kolom\n",
        "#dsini angka random yg akan ditampilkan itu tidak di input sendiri oleh kita, tapi ditentukan oleh program \n",
        "\n",
        "g = np.random.randint (1,10, size = (3,4))\n",
        "print (\"\\n Matrix dengan sebarang elemen diantara interval 1 hingga 10, dengan ordo 3x4 : \\n\", g)\n",
        "# \"np.random.randint\" digunakan untuk membuat data array berupa matrix dengan sebarang elemen\n",
        "# dan memiliki batas angka dari elemen dan mempunyai ordo juga\n",
        "# (1,10, size = (3,4)) disini angka pertama itu \"1,10\" yg dimana angka ini merupakan batas dari elemen yg ada di matrix\n",
        "#jadi angka yg ada di matrix tsb berada di interval 1 hingga 10, dan tidak lebih dari 10 dan tidak kurang dari 1\n",
        "# kemudian \"size = (3,4)\" ini artinya itu ukuran dari jumlah baris dan kolom, yg dimana berarti mempunyai ordo 3x4"
      ],
      "metadata": {
        "colab": {
          "base_uri": "https://localhost:8080/"
        },
        "id": "cfc1T1gy2CCQ",
        "outputId": "f9b0c435-2523-422c-dfb7-bdf77330a040"
      },
      "execution_count": null,
      "outputs": [
        {
          "output_type": "stream",
          "name": "stdout",
          "text": [
            "Matrix 1 dengan ordo 2x3  : \n",
            " [[1. 1. 1.]\n",
            " [1. 1. 1.]]\n",
            "\n",
            " Matrix 0 dengan ordo 3x2 : \n",
            " [[0. 0.]\n",
            " [0. 0.]\n",
            " [0. 0.]]\n",
            "\n",
            " Matrix identitas dengan ordo 4x4 : \n",
            " [[1. 0. 0. 0.]\n",
            " [0. 1. 0. 0.]\n",
            " [0. 0. 1. 0.]\n",
            " [0. 0. 0. 1.]]\n",
            "\n",
            " Akan dibuat 2 data matrix 1 dengan ordo 3x4 : \n",
            " [[[1. 1. 1. 1.]\n",
            "  [1. 1. 1. 1.]\n",
            "  [1. 1. 1. 1.]]\n",
            "\n",
            " [[1. 1. 1. 1.]\n",
            "  [1. 1. 1. 1.]\n",
            "  [1. 1. 1. 1.]]]\n",
            "\n",
            " Matrix 9 dengan ordo 3x2 : \n",
            "  [[9 9]\n",
            " [9 9]\n",
            " [9 9]]\n",
            "\n",
            " Matrix yg mempunyai sebarang elemen dengan ordo 4x3 : \n",
            " [[0.60074707 0.05705915 0.16107984]\n",
            " [0.61100512 0.1002141  0.4247048 ]\n",
            " [0.76525444 0.32012022 0.86534247]\n",
            " [0.77361154 0.91898525 0.25100885]]\n",
            "\n",
            " Matrix dengan sebarang elemen diantara interval 1 hingga 10, dengan ordo 3x4 : \n",
            " [[9 3 5 9]\n",
            " [6 5 5 3]\n",
            " [2 2 4 1]]\n"
          ]
        }
      ]
    },
    {
      "cell_type": "code",
      "source": [],
      "metadata": {
        "id": "YgDrHqgvCGER"
      },
      "execution_count": null,
      "outputs": []
    },
    {
      "cell_type": "markdown",
      "source": [
        "**5.20.4 COPY PADA NUMPY**\n",
        "\n",
        "operasi penyalinan (copy) digunakan untuk membuat **salinan independen dari suatu objek array**, sehingga perubahan pada salinan tersebut tidak akan mempengaruhi objek array asli. "
      ],
      "metadata": {
        "id": "bErBm3s5STX2"
      }
    },
    {
      "cell_type": "code",
      "source": [
        "#LATIHAN KE-1 COPY PADA NUMPY\n",
        "\n",
        "import numpy as np\n",
        "\n",
        "a = np.array ([1,2,3,4,5])\n",
        "print (\"Menampilkan data a array : \\n\", a)\n",
        "#Pada baris ini, kita membuat array numpy dengan nama a yang berisi elemen-elemen [1, 2, 3, 4, 5]\n",
        "\n",
        "b = a\n",
        "print (\"\\n Menampilkan data b array yg dimana b=a : \\n\", b)\n",
        "#menyamakan variabel baru dengan yg ada di data\n",
        "#Pada baris ini, kita membuat variabel b yang merupakan alias dari array a\n",
        "#Dalam numpy, jika kita membuat variabel baru yang mengacu pada array yang sudah ada, itu hanya akan menjadi referensi (alias) ke array asli, bukan salinan baru.\n",
        "\n",
        "b[0] = 10\n",
        "print (\"\\nData array terbaru setelah diubah : \\n\", b)\n",
        "#mengganti index ke 0 dengan elemen baru yaitu 10 \n",
        "\n",
        "print (\"\\n Memanggil data a array setelah diperbarui : \\n\", a)\n",
        "#memanggil variabel a, karena diatas tadi di deskripsikan  bahwa b = a, maka sama artinya dengan a = b\n",
        "\n",
        "c = np.array ([9,8,7,6,5])\n",
        "print (\"\\n Menampilkan data array c : \\n\", c)\n",
        "#Pada baris ini, kita membuat array numpy baru dengan nama c yang berisi elemen-elemen [9, 8, 7, 6, 5].\n",
        "\n",
        "d = c.copy()\n",
        "print (\"\\n Mengcopy data array c ke data array d : \\n\", d)\n",
        "#Pada baris ini, kita membuat salinan dalam (deep copy) dari array c dan menyimpannya dalam variabel d.\n",
        "#Ini akan membuat array baru yang sepenuhnya independen dari c, sehingga perubahan pada d tidak akan mempengaruhi c.\n",
        "\n",
        "d[0] = 10\n",
        "print (\"\\n Menampilkan data array d setelah ada perubahan : \\n\", d)\n",
        "#Pada baris ini, kita mengganti nilai elemen pertama dari array d menjadi 10.\n",
        "\n",
        "print (\"\\n Menampilkan data array c : \\n\", c)\n",
        "#menampilkan data array c"
      ],
      "metadata": {
        "colab": {
          "base_uri": "https://localhost:8080/"
        },
        "id": "9Y0leG1FSyry",
        "outputId": "dc7e69ff-acd8-4ac9-c5dc-a13534afd882"
      },
      "execution_count": null,
      "outputs": [
        {
          "output_type": "stream",
          "name": "stdout",
          "text": [
            "Menampilkan data a array : \n",
            " [1 2 3 4 5]\n",
            "\n",
            " Menampilkan data b array yg dimana b=a : \n",
            " [1 2 3 4 5]\n",
            "\n",
            "Data array terbaru setelah diubah : \n",
            " [10  2  3  4  5]\n",
            "\n",
            " Memanggil data a array setelah diperbarui : \n",
            " [10  2  3  4  5]\n",
            "\n",
            " Menampilkan data array c : \n",
            " [9 8 7 6 5]\n",
            "\n",
            " Mengcopy data array c ke data array d : \n",
            " [9 8 7 6 5]\n",
            "\n",
            " Menampilkan data array d setelah ada perubahan : \n",
            " [10  8  7  6  5]\n",
            "\n",
            " Menampilkan data array c : \n",
            " [9 8 7 6 5]\n"
          ]
        }
      ]
    },
    {
      "cell_type": "code",
      "source": [
        "#LATIHAN KE-2 COPY PADA NUMPY\n",
        "\n",
        "import numpy as np\n",
        "\n",
        "#Membuat array asal\n",
        "a = np.array([1, 2, 3, 4, 5])\n",
        "\n",
        "#Menggunakan copy() untuk membuat salinan array baru\n",
        "b = np.copy(a)\n",
        "\n",
        "#Mengubah nilai pada array b\n",
        "b[0] = 10\n",
        "\n",
        "#Mencetak isi array a dan b\n",
        "print(\"Elemen dari data array a terdiri dari : \\n\", a)\n",
        "print(\"\\n Elemen dari data array b terdiri dari : \\n\", b)\n"
      ],
      "metadata": {
        "colab": {
          "base_uri": "https://localhost:8080/"
        },
        "id": "5g9dP0dJUEa4",
        "outputId": "c1bafa3a-ed5f-43fa-8c30-d26f53e66d82"
      },
      "execution_count": null,
      "outputs": [
        {
          "output_type": "stream",
          "name": "stdout",
          "text": [
            "Elemen dari data array a terdiri dari : \n",
            " [1 2 3 4 5]\n",
            "\n",
            " Elemen dari data array b terdiri dari : \n",
            " [10  2  3  4  5]\n"
          ]
        }
      ]
    },
    {
      "cell_type": "code",
      "source": [],
      "metadata": {
        "id": "xQGQilsqYYiw"
      },
      "execution_count": null,
      "outputs": []
    },
    {
      "cell_type": "markdown",
      "source": [
        "**5.20.5 OPERASI MATEMATIKA PADA NUMPY**"
      ],
      "metadata": {
        "id": "AdYjYZ2RY1q2"
      }
    },
    {
      "cell_type": "code",
      "source": [
        "#LATIHAN KE-1 OPERASI MATEMATIKA\n",
        "\n",
        "import numpy as np\n",
        "\n",
        "#mendeskripsikan nilai array dari variabel pada numpy\n",
        "a = np.array ([2,2,8,8,9,9])\n",
        "b = np.array ([1,1,3,3,7,7])\n",
        "print (\"Data array a terdiri dari : \\n\", a)\n",
        "print (\"Data array b terdiri dari : \\n\", b, \"\\n\")\n",
        "\n",
        "#menggunakan operasi penjumlahan pada array\n",
        "s1 = a + 2\n",
        "print (\"Hasil dari a + 2 : \\n\", s1, \"\\n\")\n",
        "#pada baris ini artinya menambahkan 2 ke setiap elemen dalam array a\n",
        "\n",
        "#menggunakan operasi pengurangan di array pada numpy\n",
        "s2 = a - 2\n",
        "print (\"Hasil dari a - 2 : \\n\", s2, \"\\n\")\n",
        "#pada baris ini artinya mengurangi 2 dari setiap elemen dalam array a\n",
        "\n",
        "#operasi perkalian pada array di numpy\n",
        "s3 = a*2\n",
        "print (\"Hasil dari a * 2 : \\n\", s3, \"\\n\")\n",
        "#Mengalikan setiap elemen dalam array a dengan 2.\n",
        "\n",
        "#menggunakan operasi pembagian di array pada numpy\n",
        "s4 = a/2\n",
        "print (\"Hasil dari a / 2 : \\n\", s4, \"\\n\")\n",
        "#Membagi setiap elemen dalam array a dengan 2.\n",
        "\n",
        "#menggunakan operasi kuadrat di array pada numpy\n",
        "s5 = a**2\n",
        "print (\"Hasil dari a ** 2 : \\n\", s5, \"\\n\")\n",
        "#Mengkuadratkan setiap elemen dalam array a.\n",
        "\n",
        "#operasi penjumlahan dua data array pada numpy\n",
        "s6 = a+b\n",
        "print (\"Hasil dari a + b : \\n\", s6, \"\\n\")\n",
        "#Menjumlahkan elemen per elemen antara array a dan b jika ukurannya sama.\n",
        "\n",
        "#operasi pengurangan dua data array pada numpy\n",
        "s7 = a-b\n",
        "print (\"Hasil dari a - b : \\n\", s7, \"\\n\")\n",
        "#Mengurangkn elemen per elemen antara array a dan b jika ukurannya sama.\n",
        "\n",
        "#operasi perkalian dua data array pada numpy\n",
        "s8 = a*b\n",
        "print (\"Hasil dari a * b : \\n\", s8, \"\\n\")\n",
        "#mengalikan elemen per elemen antara array a dan b jika ukurannya sama.\n",
        "\n",
        "#operasi pembagian dua data array pada numpy\n",
        "s9 = a/b\n",
        "print (\"Hasil dari a / b : \\n\", s9, \"\\n\")\n",
        "#Membagi elemen per elemen antara array a dan b jika ukurannya sama.\n",
        "\n",
        "#operasi perpangkatan dua data array pada numpy\n",
        "s10 = b**a\n",
        "print (\"Hasil dari b**a: \\n\", s10, \"\\n\")\n",
        "#Menghitung nilai b pangkat a untuk setiap elemen dalam array a.\n",
        "\n",
        "#operasi pembentukan nilai cos (a)\n",
        "t1 = np.cos(a)\n",
        "print (\"Hasil dari cos(a) : \\n\", t1, \"\\n\")\n",
        "#Menghitung kosinus dari setiap elemen dalam array a.\n",
        "\n",
        "#operasi pembentukan nilai sin (a)\n",
        "t2 = np.sin(a)\n",
        "print (\"Hasil dari sin(a) : \\n\", t2, \"\\n\")\n",
        "#Menghitung sinus dari setiap elemen dalam array a.\n",
        "\n",
        "#operasi pembentukan nilai tangen (a)\n",
        "t3 = np.tan(a)\n",
        "print (\"Hasil dari tan(a) : \\n\", t3, \"\\n\")\n",
        "#Menghitung tangen dari setiap elemen dalam array a.\n",
        "\n",
        "#operasi pembentukan sinus hiperbolik (a)\n",
        "t4 = np.sinh(a)\n",
        "print (\"Hasil dari sinh(a) : \\n\", t4, \"\\n\")\n",
        "#Menghitung sinus hiperbolik dari setiap elemen dalam array a.\n",
        "\n",
        "#operasi pembentukan kosinus hiperbolik (a)\n",
        "t5 = np.cosh(a)\n",
        "print (\"Hasil dari cosh(a) : \\n\", t5, \"\\n\")\n",
        "#Menghitung kosinus hiperbolik dari setiap elemen dalam array a.\n",
        "\n",
        "#operasi pembentukan tangen hiperbolik (a)\n",
        "t6 = np.tanh(a)\n",
        "print (\"Hasil dari tanh(a) : \\n\", t6, \"\\n\")\n",
        "#Menghitung tangen hiperbolik dari setiap elemen dalam array a.\n",
        "\n",
        "#operasi yang menghitung nilai dari akar kuadrat (a)\n",
        "t7 = np.sqrt(a)\n",
        "print (\"Hasil dari akar kuadrat (a) : \\n\", t7, \"\\n\")\n",
        "#Menghitung akar kuadrat dari setiap elemen dalam array a."
      ],
      "metadata": {
        "colab": {
          "base_uri": "https://localhost:8080/"
        },
        "id": "G3OWFxXRZJiV",
        "outputId": "623195d5-aa96-47aa-f6e4-fa7ae8e7248c"
      },
      "execution_count": null,
      "outputs": [
        {
          "output_type": "stream",
          "name": "stdout",
          "text": [
            "Data array a terdiri dari : \n",
            " [2 2 8 8 9 9]\n",
            "Data array b terdiri dari : \n",
            " [1 1 3 3 7 7] \n",
            "\n",
            "Hasil dari a + 2 : \n",
            " [ 4  4 10 10 11 11] \n",
            "\n",
            "Hasil dari a - 2 : \n",
            " [0 0 6 6 7 7] \n",
            "\n",
            "Hasil dari a * 2 : \n",
            " [ 4  4 16 16 18 18] \n",
            "\n",
            "Hasil dari a / 2 : \n",
            " [1.  1.  4.  4.  4.5 4.5] \n",
            "\n",
            "Hasil dari a ** 2 : \n",
            " [ 4  4 64 64 81 81] \n",
            "\n",
            "Hasil dari a + b : \n",
            " [ 3  3 11 11 16 16] \n",
            "\n",
            "Hasil dari a - b : \n",
            " [1 1 5 5 2 2] \n",
            "\n",
            "Hasil dari a * b : \n",
            " [ 2  2 24 24 63 63] \n",
            "\n",
            "Hasil dari a / b : \n",
            " [2.         2.         2.66666667 2.66666667 1.28571429 1.28571429] \n",
            "\n",
            "Hasil dari b**a: \n",
            " [       1        1     6561     6561 40353607 40353607] \n",
            "\n",
            "Hasil dari cos(a) : \n",
            " [-0.41614684 -0.41614684 -0.14550003 -0.14550003 -0.91113026 -0.91113026] \n",
            "\n",
            "Hasil dari sin(a) : \n",
            " [0.90929743 0.90929743 0.98935825 0.98935825 0.41211849 0.41211849] \n",
            "\n",
            "Hasil dari tan(a) : \n",
            " [-2.18503986 -2.18503986 -6.79971146 -6.79971146 -0.45231566 -0.45231566] \n",
            "\n",
            "Hasil dari sinh(a) : \n",
            " [3.62686041e+00 3.62686041e+00 1.49047883e+03 1.49047883e+03\n",
            " 4.05154190e+03 4.05154190e+03] \n",
            "\n",
            "Hasil dari cosh(a) : \n",
            " [3.76219569e+00 3.76219569e+00 1.49047916e+03 1.49047916e+03\n",
            " 4.05154203e+03 4.05154203e+03] \n",
            "\n",
            "Hasil dari tanh(a) : \n",
            " [0.96402758 0.96402758 0.99999977 0.99999977 0.99999997 0.99999997] \n",
            "\n",
            "Hasil dari sqrt(a) : \n",
            " [1.41421356 1.41421356 2.82842712 2.82842712 3.         3.        ] \n",
            "\n"
          ]
        }
      ]
    },
    {
      "cell_type": "code",
      "source": [],
      "metadata": {
        "id": "bBZM4nvjazc6"
      },
      "execution_count": null,
      "outputs": []
    },
    {
      "cell_type": "markdown",
      "source": [
        "**5.20.6 PERKALIAN MATRIK PADA NUMPY**\n",
        "\n",
        "Dapat diamati bahwa operasi matematika pada suatu matrik dengan Numpy\n",
        "akan mengoperaikan elemen yang baris dan kolomnya sama. Tentunya hal ini\n",
        "akan memberikan hasil berbeda jika yang kita kehendaki adalah perkalian dua\n",
        "matrik. **Perkalian matrik pada Numpy** dapat menggunakan perintah **matmul**.\n",
        "Perlu dijadikan perhatian tentang ukuran matrik yang akan dikalikan harus\n",
        "sesuai dengan persyaratan. Misalnya matrik ukuran (2x3) dapat dikalikan den\u0002gan matrik ukuran (3x4)."
      ],
      "metadata": {
        "id": "qz2jMejZiNxB"
      }
    },
    {
      "cell_type": "code",
      "source": [
        "#LATIHAN KE-1 PERKALIAN MATRIK\n",
        "\n",
        "import numpy as np\n",
        "\n",
        "#membuat 2 array dengan fungsi \"np.array\"\n",
        "a = np.array ([[1,2,3,4], [5,6,7,8]])\n",
        "b = np.array ([[9,10,11,12], [13,14,15,16]])\n",
        "print (\"Data pada arrray a : \\n\", a, \"\\n\")\n",
        "print (\"Data pada array b : \\n\", b, \"\\n\")\n",
        "\n",
        "c = a*b\n",
        "print (\"Hasil dari perkalian data a x  b : \\n\", c, \"\\n\")\n",
        "#Selanjutnya, kita mengalikan kedua array a dan b menggunakan operator *, yang merupakan perkalian element-wise\n",
        "#Hasilnya disimpan dalam array c. Dalam perkalian element-wise, elemen pada posisi yang sama pada kedua array dikalikan\n",
        "\n",
        "e = np.array ([[9,10], [11,12], [13,14], [15,16]])\n",
        "print (e)\n",
        "#membuat array 2 dimensi e dengan menggunakan fungsi np.array()\n",
        "\n",
        "f = np.matmul(a,e)\n",
        "print (f)\n",
        "#melakukan operasi perkalian matriks antara array a dan e menggunakan fungsi np.matmul(), dan hasilnya disimpan dalam variabel f. \n",
        "#Operasi perkalian matriks ini dilakukan sesuai dengan aturan perkalian matriks, yaitu jumlah kolom pada matriks pertama harus sama dengan jumlah baris pada matriks kedua.\n",
        "\n"
      ],
      "metadata": {
        "colab": {
          "base_uri": "https://localhost:8080/"
        },
        "id": "Wzt9WsrcifDI",
        "outputId": "80d82639-3290-4ed1-b1ca-2a761083690d"
      },
      "execution_count": null,
      "outputs": [
        {
          "output_type": "stream",
          "name": "stdout",
          "text": [
            "Data pada arrray a : \n",
            " [[1 2 3 4]\n",
            " [5 6 7 8]] \n",
            "\n",
            "Data pada array b : \n",
            " [[ 9 10 11 12]\n",
            " [13 14 15 16]] \n",
            "\n",
            "Hasil dari perkalian data a x data b : \n",
            " [[  9  20  33  48]\n",
            " [ 65  84 105 128]] \n",
            "\n",
            "[[ 9 10]\n",
            " [11 12]\n",
            " [13 14]\n",
            " [15 16]]\n",
            "[[130 140]\n",
            " [322 348]]\n"
          ]
        }
      ]
    },
    {
      "cell_type": "markdown",
      "source": [
        "**5.20.7 MIN, MAX DAN SUM PADA NUMPY**\n",
        "\n",
        "Perintah min, max dan sum cukup sering digunakan untuk mengetahui nilai\n",
        "minimum, maksimum dan penjumlahan.\n"
      ],
      "metadata": {
        "id": "Lei-5AfemPPh"
      }
    },
    {
      "cell_type": "code",
      "source": [
        "#LATIHAN KE-1 \n",
        "\n",
        "a = np.array ([[1,2,3,4], [5,6,7,8], [9,10,11,12]])\n",
        "print (\"Data array a : \\n\", a, \"\\n\")\n",
        "#mendeklarasikan data array pada variabel a\n",
        "\n",
        "b = np.min(a)\n",
        "print (\"Nilai minimum dari data a yaitu : \\n\", b, \"\\n\")\n",
        "#menampilkan nilai minimum pada data array a\n",
        "#menggunakan fungsi \"np.min()\" untuk mencari nilai minimum dari data array pada numpy\n",
        "\n",
        "c = np.min(a, axis = 0)\n",
        "print (\"Nilai minimum data a pada setiap kolom yaitu : \\n\", c, \"\\n\")\n",
        "#digunakan untuk mencari nilai minimum (elemen terkecil) dari setiap kolom dalam array a menggunakan axis=0\n",
        "#Hasilnya disimpan dalam array c\n",
        "\n",
        "d = np.min(a, axis = 1)\n",
        "print(\"Nilai minimum data a pada setiap baris yaitu : \\n\", d, \"\\n\")\n",
        "#digunakan untuk mencari nilai minimum (elemen terkecil) dari setiap baris dalam array a menggunakan axis=1\n",
        "#Hasilnya disimpan dalam array d\n",
        "\n",
        "e = np.max (a)\n",
        "print (\"Nilai maximum pada data array a yaitu : \\n\", e, \"\\n\")\n",
        "#digunakan untuk mencari nilai maksimum (elemen terbesar) dari seluruh elemen dalam array a\n",
        "#Hasilnya disimpan dalam variabel e\n",
        "\n",
        "f = np.max (a, axis = 0)\n",
        "print (\"Nilai maximum data a pada setiap kolom yaitu : \\n\", f, \"\\n\")\n",
        "#digunakan untuk mencari nilai maksimum (elemen terbesar) dari setiap kolom dalam array a menggunakan axis=0\n",
        "#Hasilnya disimpan dalam array f\n",
        "\n",
        "g = np.max (a, axis = 1)\n",
        "print (\"Nilai maximum data a pada setiap baris yaitu : \\n\", g, \"\\n\")\n",
        "#digunakan untuk mencari nilai maksimum (elemen terbesar) dari setiap baris dalam array a menggunakan axis=1. Hasilnya disimpan dalam array g\n",
        "\n",
        "h1 = np.sum (a)\n",
        "print (\"Jumlah dari data array a yaitu : \\n\", h1, \"\\n\")\n",
        "#digunakan untuk menjumlahkan seluruh elemen dalam array a. Hasilnya disimpan dalam variabel h\n",
        "\n",
        "h2 = np.sum (a, axis = 0)\n",
        "print (\"Jumlah dari data a pada setiap kolom yaitu : \\n\", h2, \"\\n\")\n",
        "#digunakan untuk menjumlahkan setiap kolom dalam array a menggunakan axis=0. Hasilnya disimpan dalam array h\n",
        "\n",
        "\n",
        "i = np.sum (a, axis = 1)\n",
        "print (\"Jumlah dari data a pada setiap baris yaitu : \\n\", i, \"\\n\")\n",
        "#digunakan untuk menjumlahkan setiap baris dalam array a menggunakan axis=1. Hasilnya disimpan dalam array i\n"
      ],
      "metadata": {
        "colab": {
          "base_uri": "https://localhost:8080/"
        },
        "id": "y9qLjrWwmfHs",
        "outputId": "0cd02d63-c6d5-4db5-938d-567fc212ae09"
      },
      "execution_count": null,
      "outputs": [
        {
          "output_type": "stream",
          "name": "stdout",
          "text": [
            "Data array a : \n",
            " [[ 1  2  3  4]\n",
            " [ 5  6  7  8]\n",
            " [ 9 10 11 12]] \n",
            "\n",
            "Nilai minimum dari data a yaitu : \n",
            " 1 \n",
            "\n",
            "Nilai minimum data a pada baris yaitu : \n",
            " [1 2 3 4] \n",
            "\n",
            "Nilai minimum data a pada kolom yaitu : \n",
            " [1 5 9] \n",
            "\n",
            "12\n",
            "[ 9 10 11 12]\n",
            "[ 4  8 12]\n",
            "78\n",
            "[15 18 21 24]\n",
            "[10 26 42]\n"
          ]
        }
      ]
    },
    {
      "cell_type": "code",
      "source": [],
      "metadata": {
        "id": "CJM0SCx3m08h"
      },
      "execution_count": null,
      "outputs": []
    }
  ]
}